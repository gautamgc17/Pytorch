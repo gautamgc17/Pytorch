{
 "cells": [
  {
   "cell_type": "code",
   "execution_count": 1,
   "id": "76786fc1",
   "metadata": {},
   "outputs": [],
   "source": [
    "import numpy as np\n",
    "import pandas as pd\n",
    "import matplotlib.pyplot as plt\n",
    "import seaborn as sns"
   ]
  },
  {
   "cell_type": "code",
   "execution_count": 2,
   "id": "a7d7ab1d",
   "metadata": {},
   "outputs": [
    {
     "data": {
      "text/html": [
       "<div>\n",
       "<style scoped>\n",
       "    .dataframe tbody tr th:only-of-type {\n",
       "        vertical-align: middle;\n",
       "    }\n",
       "\n",
       "    .dataframe tbody tr th {\n",
       "        vertical-align: top;\n",
       "    }\n",
       "\n",
       "    .dataframe thead th {\n",
       "        text-align: right;\n",
       "    }\n",
       "</style>\n",
       "<table border=\"1\" class=\"dataframe\">\n",
       "  <thead>\n",
       "    <tr style=\"text-align: right;\">\n",
       "      <th></th>\n",
       "      <th>x</th>\n",
       "    </tr>\n",
       "  </thead>\n",
       "  <tbody>\n",
       "    <tr>\n",
       "      <th>0</th>\n",
       "      <td>-0.289307</td>\n",
       "    </tr>\n",
       "    <tr>\n",
       "      <th>1</th>\n",
       "      <td>-0.588810</td>\n",
       "    </tr>\n",
       "    <tr>\n",
       "      <th>2</th>\n",
       "      <td>1.027507</td>\n",
       "    </tr>\n",
       "    <tr>\n",
       "      <th>3</th>\n",
       "      <td>-0.259013</td>\n",
       "    </tr>\n",
       "    <tr>\n",
       "      <th>4</th>\n",
       "      <td>0.782043</td>\n",
       "    </tr>\n",
       "  </tbody>\n",
       "</table>\n",
       "</div>"
      ],
      "text/plain": [
       "          x\n",
       "0 -0.289307\n",
       "1 -0.588810\n",
       "2  1.027507\n",
       "3 -0.259013\n",
       "4  0.782043"
      ]
     },
     "execution_count": 2,
     "metadata": {},
     "output_type": "execute_result"
    }
   ],
   "source": [
    "df1 = pd.read_csv('./datasets/Linear_X_Train-Copy1.csv')\n",
    "df1.head(5)"
   ]
  },
  {
   "cell_type": "code",
   "execution_count": 3,
   "id": "3943defd",
   "metadata": {},
   "outputs": [
    {
     "data": {
      "text/html": [
       "<div>\n",
       "<style scoped>\n",
       "    .dataframe tbody tr th:only-of-type {\n",
       "        vertical-align: middle;\n",
       "    }\n",
       "\n",
       "    .dataframe tbody tr th {\n",
       "        vertical-align: top;\n",
       "    }\n",
       "\n",
       "    .dataframe thead th {\n",
       "        text-align: right;\n",
       "    }\n",
       "</style>\n",
       "<table border=\"1\" class=\"dataframe\">\n",
       "  <thead>\n",
       "    <tr style=\"text-align: right;\">\n",
       "      <th></th>\n",
       "      <th>y</th>\n",
       "    </tr>\n",
       "  </thead>\n",
       "  <tbody>\n",
       "    <tr>\n",
       "      <th>0</th>\n",
       "      <td>-0.091101</td>\n",
       "    </tr>\n",
       "    <tr>\n",
       "      <th>1</th>\n",
       "      <td>-53.467721</td>\n",
       "    </tr>\n",
       "    <tr>\n",
       "      <th>2</th>\n",
       "      <td>75.457009</td>\n",
       "    </tr>\n",
       "    <tr>\n",
       "      <th>3</th>\n",
       "      <td>-12.025286</td>\n",
       "    </tr>\n",
       "    <tr>\n",
       "      <th>4</th>\n",
       "      <td>57.414187</td>\n",
       "    </tr>\n",
       "  </tbody>\n",
       "</table>\n",
       "</div>"
      ],
      "text/plain": [
       "           y\n",
       "0  -0.091101\n",
       "1 -53.467721\n",
       "2  75.457009\n",
       "3 -12.025286\n",
       "4  57.414187"
      ]
     },
     "execution_count": 3,
     "metadata": {},
     "output_type": "execute_result"
    }
   ],
   "source": [
    "df2 = pd.read_csv('./datasets/Linear_Y_Train-Copy1.csv')\n",
    "df2.head(5)"
   ]
  },
  {
   "cell_type": "code",
   "execution_count": 4,
   "id": "e6674a64",
   "metadata": {},
   "outputs": [
    {
     "name": "stdout",
     "output_type": "stream",
     "text": [
      "(3750, 1) (3750, 1)\n"
     ]
    }
   ],
   "source": [
    "x , y = df1.to_numpy() , np.array(df2)\n",
    "print(x.shape , y.shape)"
   ]
  },
  {
   "cell_type": "code",
   "execution_count": 5,
   "id": "680311f1",
   "metadata": {},
   "outputs": [
    {
     "data": {
      "image/png": "[encoded data removed]",
      "text/plain": [
       "<Figure size 432x288 with 1 Axes>"
      ]
     },
     "metadata": {
      "needs_background": "light"
     },
     "output_type": "display_data"
    }
   ],
   "source": [
    "plt.scatter(x , y);"
   ]
  },
  {
   "cell_type": "code",
   "execution_count": 6,
   "id": "de3b8d54",
   "metadata": {},
   "outputs": [],
   "source": [
    "import torch\n",
    "import torch.nn as nn\n",
    "import torch.nn.functional as F\n",
    "import torch.optim as optim"
   ]
  },
  {
   "cell_type": "code",
   "execution_count": 9,
   "id": "e598322e",
   "metadata": {},
   "outputs": [],
   "source": [
    "class LinearRegression(nn.Module):\n",
    "    def __init__(self , in_features):\n",
    "        super().__init__()\n",
    "        \n",
    "        self.linear = nn.Linear(in_features , 1)\n",
    "        \n",
    "    def forward(self , x):\n",
    "        return self.linear(x)\n",
    "    \n",
    "\n",
    "model = LinearRegression(1)"
   ]
  },
  {
   "cell_type": "code",
   "execution_count": 10,
   "id": "b0a53476",
   "metadata": {},
   "outputs": [
    {
     "name": "stdout",
     "output_type": "stream",
     "text": [
      "linear.weight : Parameter containing:\n",
      "tensor([[-0.8257]], requires_grad=True) torch.Size([1, 1])\n",
      "linear.bias : Parameter containing:\n",
      "tensor([-0.0888], requires_grad=True) torch.Size([1])\n"
     ]
    }
   ],
   "source": [
    "for name , param in model.named_parameters():\n",
    "    print(name , ':' , param , param.shape)"
   ]
  },
  {
   "cell_type": "code",
   "execution_count": 11,
   "id": "f949b938",
   "metadata": {},
   "outputs": [
    {
     "name": "stdout",
     "output_type": "stream",
     "text": [
      "torch.float32 torch.float32\n"
     ]
    }
   ],
   "source": [
    "X , Y = torch.FloatTensor(x) , torch.FloatTensor(y)\n",
    "print(X.dtype , Y.dtype)"
   ]
  },
  {
   "cell_type": "code",
   "execution_count": 12,
   "id": "10d5ba28",
   "metadata": {},
   "outputs": [],
   "source": [
    "epochs = 2000\n",
    "optimizer = optim.Adam(model.parameters() , lr = 0.1)  # parameters to be updated – the weight and the bias.\n",
    "criterion = nn.MSELoss()"
   ]
  },
  {
   "cell_type": "markdown",
   "id": "75fcbb0e",
   "metadata": {},
   "source": [
    "loss.backward() computes _dloss/dx_ for every parameter x which has _requires_grad=True_. These are accumulated into _x.grad_ for every parameter x. In pseudo-code:\n",
    "\n",
    "_x.grad += dloss/dx_\n",
    "\n",
    "optimizer.step updates the value of x using the gradient x.grad. For example, the SGD optimizer performs:\n",
    "\n",
    "_x += -lr * x.grad_\n",
    "\n",
    "_optimizer.zero_grad()_ clears _x.grad_ for every parameter x in the optimizer. It’s important to call this before _loss.backward()_, otherwise you’ll accumulate the gradients from multiple passes."
   ]
  },
  {
   "cell_type": "code",
   "execution_count": 19,
   "id": "dd7404f2",
   "metadata": {},
   "outputs": [],
   "source": [
    "assert model(X).shape == (x.shape[0] , 1)"
   ]
  },
  {
   "cell_type": "code",
   "execution_count": 20,
   "id": "46a4d8e2",
   "metadata": {
    "scrolled": false
   },
   "outputs": [
    {
     "name": "stdout",
     "output_type": "stream",
     "text": [
      "Epoch: 0 Loss: 6708.0078125\n",
      "Epoch: 400 Loss: 2281.91064453125\n",
      "Epoch: 800 Loss: 655.31005859375\n",
      "Epoch: 1200 Loss: 253.12246704101562\n",
      "Epoch: 1600 Loss: 195.3175048828125\n",
      "Epoch: 2000 Loss: 191.09518432617188\n"
     ]
    }
   ],
   "source": [
    "losses = []\n",
    "for i in range(epochs+1):\n",
    "    y_pred = model(X)              # forward pass\n",
    "    loss = criterion(y_pred , Y)   # calculate mse loss\n",
    "    losses.append(loss.item())     # return tensor as python number\n",
    "    \n",
    "    if(i%400 == 0):\n",
    "        print(f\"Epoch: {i} Loss: {loss.item()}\")\n",
    "    \n",
    "    optimizer.zero_grad()   # calculated gradient is equal to 0 after each epoch\n",
    "    loss.backward()         # calculates gradient wrt each parameter\n",
    "    optimizer.step()        # backpropagation - update parameters   "
   ]
  },
  {
   "cell_type": "code",
   "execution_count": 21,
   "id": "9a77313a",
   "metadata": {},
   "outputs": [],
   "source": [
    "y_pred = model(X)"
   ]
  },
  {
   "cell_type": "code",
   "execution_count": 24,
   "id": "a3d10a2f",
   "metadata": {},
   "outputs": [
    {
     "data": {
      "text/plain": [
       "False"
      ]
     },
     "execution_count": 24,
     "metadata": {},
     "output_type": "execute_result"
    }
   ],
   "source": [
    "X.requires_grad"
   ]
  },
  {
   "cell_type": "code",
   "execution_count": 26,
   "id": "7b7066a0",
   "metadata": {},
   "outputs": [
    {
     "data": {
      "text/plain": [
       "True"
      ]
     },
     "execution_count": 26,
     "metadata": {},
     "output_type": "execute_result"
    }
   ],
   "source": [
    "y_pred.requires_grad"
   ]
  },
  {
   "cell_type": "markdown",
   "id": "1879560f",
   "metadata": {},
   "source": [
    "tensor.detach() creates a tensor that shares storage with tensor that does not require grad. You should use detach() when attempting to remove a tensor from a computation graph. In order to enable automatic differentiation, PyTorch keeps track of all operations involving tensors for which the gradient may need to be computed (i.e., require_grad is True). The operations are recorded as a directed graph.\n",
    "\n",
    "The detach() method constructs a new view on a tensor which is declared not to need gradients, i.e., it is to be excluded from further tracking of operations, and therefore the sub-graph involving this view is not recorded.\n",
    "\n",
    "This is expected behavior because moving to numpy will break the graph and so no gradient will be computed."
   ]
  },
  {
   "cell_type": "code",
   "execution_count": 33,
   "id": "1f2ce1af",
   "metadata": {},
   "outputs": [
    {
     "data": {
      "image/png": "[encoded data removed]",
      "text/plain": [
       "<Figure size 432x288 with 1 Axes>"
      ]
     },
     "metadata": {
      "needs_background": "light"
     },
     "output_type": "display_data"
    }
   ],
   "source": [
    "plt.scatter(x , y , color = 'orange')\n",
    "plt.plot(X , y_pred.detach() , color = 'blue' , linewidth = 2); \n",
    "\n",
    "# Returns a new Tensor, detached from the current graph which does not require gradient\n",
    "# y_pred is a value for which gradient is calculated and so we cannot convert it into numpy tensor directly"
   ]
  },
  {
   "cell_type": "code",
   "execution_count": 36,
   "id": "d5ef6b19",
   "metadata": {
    "scrolled": true
   },
   "outputs": [
    {
     "name": "stdout",
     "output_type": "stream",
     "text": [
      "Parameter containing:\n",
      "tensor([[80.1688]], requires_grad=True)\n",
      "Parameter containing:\n",
      "tensor([3.7138], requires_grad=True)\n"
     ]
    }
   ],
   "source": [
    "for i in model.parameters():\n",
    "    print(i)"
   ]
  },
  {
   "cell_type": "code",
   "execution_count": 40,
   "id": "8eae0462",
   "metadata": {},
   "outputs": [
    {
     "data": {
      "image/png": "[encoded data removed]",
      "text/plain": [
       "<Figure size 432x288 with 1 Axes>"
      ]
     },
     "metadata": {
      "needs_background": "light"
     },
     "output_type": "display_data"
    }
   ],
   "source": [
    "plt.plot(np.arange(epochs+1) , losses)\n",
    "plt.title(\"Loss over time\");"
   ]
  },
  {
   "cell_type": "code",
   "execution_count": null,
   "id": "a47329cd",
   "metadata": {},
   "outputs": [],
   "source": []
  },
  {
   "cell_type": "markdown",
   "id": "c3e08a73",
   "metadata": {},
   "source": [
    "## Method-2"
   ]
  },
  {
   "cell_type": "code",
   "execution_count": 71,
   "id": "e27ba32d",
   "metadata": {},
   "outputs": [],
   "source": [
    "# A kind of Tensor that is to be considered a module parameter\n",
    "# m and c are parameters for which gradient has to be calculated and optimized\n",
    "\n",
    "m = nn.Parameter(data = torch.randn(1) , requires_grad=True)     # initialize with random value\n",
    "c = nn.Parameter(data = torch.randn(1) , requires_grad=True)"
   ]
  },
  {
   "cell_type": "code",
   "execution_count": 72,
   "id": "18451b82",
   "metadata": {},
   "outputs": [
    {
     "name": "stdout",
     "output_type": "stream",
     "text": [
      "Parameter containing:\n",
      "tensor([1.7239], requires_grad=True) Parameter containing:\n",
      "tensor([-0.6837], requires_grad=True)\n"
     ]
    }
   ],
   "source": [
    "print(m , c)"
   ]
  },
  {
   "cell_type": "code",
   "execution_count": 73,
   "id": "9b9c3e8f",
   "metadata": {},
   "outputs": [
    {
     "name": "stdout",
     "output_type": "stream",
     "text": [
      "True\n"
     ]
    }
   ],
   "source": [
    "y_hat = X*m + c\n",
    "print(y_hat.requires_grad)"
   ]
  },
  {
   "cell_type": "code",
   "execution_count": 74,
   "id": "855f19fe",
   "metadata": {},
   "outputs": [],
   "source": [
    "def mse_loss(y_pred , y_true):\n",
    "    return ((y_pred - y_true)**2).mean()"
   ]
  },
  {
   "cell_type": "code",
   "execution_count": 75,
   "id": "2a8bf0e7",
   "metadata": {},
   "outputs": [
    {
     "name": "stdout",
     "output_type": "stream",
     "text": [
      "6307.54150390625\n",
      "190.95559692382812\n",
      "190.95558166503906\n",
      "190.95558166503906\n",
      "190.95558166503906\n"
     ]
    }
   ],
   "source": [
    "lr = 0.1\n",
    "epochs = 200\n",
    "losses = []\n",
    "weight1 = []\n",
    "weight2 = []\n",
    "\n",
    "for i in range(epochs+1):\n",
    "    y_hat = X*m + c   \n",
    "    loss = mse_loss(y_hat , Y)\n",
    "    losses.append(loss.item())\n",
    "    if i%50==0:\n",
    "        print(loss.item())\n",
    "        \n",
    "    loss.backward()              # computes gradient which gets accumulated in m.grad and c.grad\n",
    "    \n",
    "    # If you use this no_grad(), you can control the new m and new c have no gradients since they are generated by operations, \n",
    "    # which means you only change the value of m and c, not gradient part, \n",
    "    # they still have previous defined variable gradient information and back propagation can continue\n",
    "    \n",
    "    with torch.no_grad():     # disable gradient calculation locally\n",
    "        m -= lr*m.grad\n",
    "        c -= lr*c.grad\n",
    "        \n",
    "        weight1.append(m.detach().item())\n",
    "        weight2.append(c.detach().item())\n",
    "        \n",
    "        m.grad.zero_()\n",
    "        c.grad.zero_()"
   ]
  },
  {
   "cell_type": "code",
   "execution_count": 86,
   "id": "f8f69b39",
   "metadata": {},
   "outputs": [
    {
     "data": {
      "image/png": "[encoded data removed]",
      "text/plain": [
       "<Figure size 432x288 with 1 Axes>"
      ]
     },
     "metadata": {
      "needs_background": "light"
     },
     "output_type": "display_data"
    }
   ],
   "source": [
    "plt.scatter(X.numpy() , Y.numpy() , c = 'r')    \n",
    "plt.scatter(X.numpy() , y_hat.detach().numpy() , c = 'b');"
   ]
  },
  {
   "cell_type": "code",
   "execution_count": null,
   "id": "3350202a",
   "metadata": {},
   "outputs": [],
   "source": []
  }
 ],
 "metadata": {
  "kernelspec": {
   "display_name": "Python 3",
   "language": "python",
   "name": "python3"
  },
  "language_info": {
   "codemirror_mode": {
    "name": "ipython",
    "version": 3
   },
   "file_extension": ".py",
   "mimetype": "text/x-python",
   "name": "python",
   "nbconvert_exporter": "python",
   "pygments_lexer": "ipython3",
   "version": "3.8.8"
  }
 },
 "nbformat": 4,
 "nbformat_minor": 5
}
